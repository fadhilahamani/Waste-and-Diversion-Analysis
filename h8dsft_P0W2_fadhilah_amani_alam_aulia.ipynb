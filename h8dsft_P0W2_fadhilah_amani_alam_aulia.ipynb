{
 "cells": [
  {
   "cell_type": "markdown",
   "metadata": {},
   "source": [
    "Nama : Fadhilah Amani Alam Aulia\n",
    "\n",
    "Batch : 15"
   ]
  },
  {
   "cell_type": "markdown",
   "metadata": {},
   "source": [
    "# Data Loading\n",
    "Ambil data dari bigquery dengan menggunakan:\n",
    "\n",
    " `SELECT report_date, load_time, load_type, load_weight, dropoff_site FROM 'bigquery-public-data.austin_waste.waste_and_diversion' WHERE report_date BETWEEN '2021-01-01' AND '2021-07-09'`"
   ]
  },
  {
   "cell_type": "code",
   "execution_count": 82,
   "metadata": {},
   "outputs": [],
   "source": [
    "# Import library yang dibutuhkan\n",
    "import pandas as pd\n",
    "import matplotlib.pyplot as plt\n",
    "import numpy as np\n",
    "import scipy.stats as stats\n",
    "from numpy import sqrt\n",
    "import seaborn as sns"
   ]
  },
  {
   "cell_type": "code",
   "execution_count": 2,
   "metadata": {},
   "outputs": [
    {
     "data": {
      "text/html": [
       "<div>\n",
       "<style scoped>\n",
       "    .dataframe tbody tr th:only-of-type {\n",
       "        vertical-align: middle;\n",
       "    }\n",
       "\n",
       "    .dataframe tbody tr th {\n",
       "        vertical-align: top;\n",
       "    }\n",
       "\n",
       "    .dataframe thead th {\n",
       "        text-align: right;\n",
       "    }\n",
       "</style>\n",
       "<table border=\"1\" class=\"dataframe\">\n",
       "  <thead>\n",
       "    <tr style=\"text-align: right;\">\n",
       "      <th></th>\n",
       "      <th>report_date</th>\n",
       "      <th>load_time</th>\n",
       "      <th>load_type</th>\n",
       "      <th>load_weight</th>\n",
       "      <th>dropoff_site</th>\n",
       "    </tr>\n",
       "  </thead>\n",
       "  <tbody>\n",
       "    <tr>\n",
       "      <th>0</th>\n",
       "      <td>2021-07-08</td>\n",
       "      <td>2021-07-08T12:00:00Z</td>\n",
       "      <td>TIRES</td>\n",
       "      <td>2260.0</td>\n",
       "      <td>MRF</td>\n",
       "    </tr>\n",
       "    <tr>\n",
       "      <th>1</th>\n",
       "      <td>2021-07-08</td>\n",
       "      <td>2021-07-08T11:00:00Z</td>\n",
       "      <td>TIRES</td>\n",
       "      <td>1260.0</td>\n",
       "      <td>MRF</td>\n",
       "    </tr>\n",
       "    <tr>\n",
       "      <th>2</th>\n",
       "      <td>2021-07-08</td>\n",
       "      <td>2021-07-08T03:00:00Z</td>\n",
       "      <td>TIRES</td>\n",
       "      <td>800.0</td>\n",
       "      <td>MRF</td>\n",
       "    </tr>\n",
       "    <tr>\n",
       "      <th>3</th>\n",
       "      <td>2021-05-01</td>\n",
       "      <td>2021-05-01T12:29:00Z</td>\n",
       "      <td>TIRES</td>\n",
       "      <td>760.0</td>\n",
       "      <td>MRF</td>\n",
       "    </tr>\n",
       "    <tr>\n",
       "      <th>4</th>\n",
       "      <td>2021-07-03</td>\n",
       "      <td>2021-07-03T12:09:00Z</td>\n",
       "      <td>TIRES</td>\n",
       "      <td>1400.0</td>\n",
       "      <td>MRF</td>\n",
       "    </tr>\n",
       "    <tr>\n",
       "      <th>...</th>\n",
       "      <td>...</td>\n",
       "      <td>...</td>\n",
       "      <td>...</td>\n",
       "      <td>...</td>\n",
       "      <td>...</td>\n",
       "    </tr>\n",
       "    <tr>\n",
       "      <th>26152</th>\n",
       "      <td>2021-03-01</td>\n",
       "      <td>2021-03-01T11:26:00Z</td>\n",
       "      <td>ORGANICS</td>\n",
       "      <td>12100.0</td>\n",
       "      <td>ORGANICS BY GOSH</td>\n",
       "    </tr>\n",
       "    <tr>\n",
       "      <th>26153</th>\n",
       "      <td>2021-03-01</td>\n",
       "      <td>2021-03-01T04:27:00Z</td>\n",
       "      <td>ORGANICS</td>\n",
       "      <td>10900.0</td>\n",
       "      <td>ORGANICS BY GOSH</td>\n",
       "    </tr>\n",
       "    <tr>\n",
       "      <th>26154</th>\n",
       "      <td>2021-03-01</td>\n",
       "      <td>2021-03-01T05:55:00Z</td>\n",
       "      <td>ORGANICS</td>\n",
       "      <td>21800.0</td>\n",
       "      <td>ORGANICS BY GOSH</td>\n",
       "    </tr>\n",
       "    <tr>\n",
       "      <th>26155</th>\n",
       "      <td>2021-03-01</td>\n",
       "      <td>2021-03-02T01:10:00Z</td>\n",
       "      <td>ORGANICS</td>\n",
       "      <td>5640.0</td>\n",
       "      <td>ORGANICS BY GOSH</td>\n",
       "    </tr>\n",
       "    <tr>\n",
       "      <th>26156</th>\n",
       "      <td>2021-03-01</td>\n",
       "      <td>2021-03-01T10:22:00Z</td>\n",
       "      <td>RECYCLED METAL</td>\n",
       "      <td>360.0</td>\n",
       "      <td>AUSTIN IRON AND METAL</td>\n",
       "    </tr>\n",
       "  </tbody>\n",
       "</table>\n",
       "<p>26157 rows × 5 columns</p>\n",
       "</div>"
      ],
      "text/plain": [
       "      report_date             load_time       load_type  load_weight  \\\n",
       "0      2021-07-08  2021-07-08T12:00:00Z           TIRES       2260.0   \n",
       "1      2021-07-08  2021-07-08T11:00:00Z           TIRES       1260.0   \n",
       "2      2021-07-08  2021-07-08T03:00:00Z           TIRES        800.0   \n",
       "3      2021-05-01  2021-05-01T12:29:00Z           TIRES        760.0   \n",
       "4      2021-07-03  2021-07-03T12:09:00Z           TIRES       1400.0   \n",
       "...           ...                   ...             ...          ...   \n",
       "26152  2021-03-01  2021-03-01T11:26:00Z        ORGANICS      12100.0   \n",
       "26153  2021-03-01  2021-03-01T04:27:00Z        ORGANICS      10900.0   \n",
       "26154  2021-03-01  2021-03-01T05:55:00Z        ORGANICS      21800.0   \n",
       "26155  2021-03-01  2021-03-02T01:10:00Z        ORGANICS       5640.0   \n",
       "26156  2021-03-01  2021-03-01T10:22:00Z  RECYCLED METAL        360.0   \n",
       "\n",
       "                dropoff_site  \n",
       "0                        MRF  \n",
       "1                        MRF  \n",
       "2                        MRF  \n",
       "3                        MRF  \n",
       "4                        MRF  \n",
       "...                      ...  \n",
       "26152       ORGANICS BY GOSH  \n",
       "26153       ORGANICS BY GOSH  \n",
       "26154       ORGANICS BY GOSH  \n",
       "26155       ORGANICS BY GOSH  \n",
       "26156  AUSTIN IRON AND METAL  \n",
       "\n",
       "[26157 rows x 5 columns]"
      ]
     },
     "execution_count": 2,
     "metadata": {},
     "output_type": "execute_result"
    }
   ],
   "source": [
    "data = pd.read_csv('h8dsft_P0GC2_fadhilah_amani_alam_aulia.csv')\n",
    "data"
   ]
  },
  {
   "cell_type": "code",
   "execution_count": 3,
   "metadata": {},
   "outputs": [
    {
     "data": {
      "text/html": [
       "<div>\n",
       "<style scoped>\n",
       "    .dataframe tbody tr th:only-of-type {\n",
       "        vertical-align: middle;\n",
       "    }\n",
       "\n",
       "    .dataframe tbody tr th {\n",
       "        vertical-align: top;\n",
       "    }\n",
       "\n",
       "    .dataframe thead th {\n",
       "        text-align: right;\n",
       "    }\n",
       "</style>\n",
       "<table border=\"1\" class=\"dataframe\">\n",
       "  <thead>\n",
       "    <tr style=\"text-align: right;\">\n",
       "      <th></th>\n",
       "      <th>report_date</th>\n",
       "      <th>load_time</th>\n",
       "      <th>load_type</th>\n",
       "      <th>load_weight</th>\n",
       "      <th>dropoff_site</th>\n",
       "    </tr>\n",
       "  </thead>\n",
       "  <tbody>\n",
       "    <tr>\n",
       "      <th>0</th>\n",
       "      <td>2021-07-08</td>\n",
       "      <td>2021-07-08T12:00:00Z</td>\n",
       "      <td>TIRES</td>\n",
       "      <td>2260.0</td>\n",
       "      <td>MRF</td>\n",
       "    </tr>\n",
       "    <tr>\n",
       "      <th>1</th>\n",
       "      <td>2021-07-08</td>\n",
       "      <td>2021-07-08T11:00:00Z</td>\n",
       "      <td>TIRES</td>\n",
       "      <td>1260.0</td>\n",
       "      <td>MRF</td>\n",
       "    </tr>\n",
       "    <tr>\n",
       "      <th>2</th>\n",
       "      <td>2021-07-08</td>\n",
       "      <td>2021-07-08T03:00:00Z</td>\n",
       "      <td>TIRES</td>\n",
       "      <td>800.0</td>\n",
       "      <td>MRF</td>\n",
       "    </tr>\n",
       "    <tr>\n",
       "      <th>3</th>\n",
       "      <td>2021-05-01</td>\n",
       "      <td>2021-05-01T12:29:00Z</td>\n",
       "      <td>TIRES</td>\n",
       "      <td>760.0</td>\n",
       "      <td>MRF</td>\n",
       "    </tr>\n",
       "    <tr>\n",
       "      <th>4</th>\n",
       "      <td>2021-07-03</td>\n",
       "      <td>2021-07-03T12:09:00Z</td>\n",
       "      <td>TIRES</td>\n",
       "      <td>1400.0</td>\n",
       "      <td>MRF</td>\n",
       "    </tr>\n",
       "    <tr>\n",
       "      <th>5</th>\n",
       "      <td>2021-02-27</td>\n",
       "      <td>2021-02-27T12:43:00Z</td>\n",
       "      <td>TIRES</td>\n",
       "      <td>320.0</td>\n",
       "      <td>MRF</td>\n",
       "    </tr>\n",
       "  </tbody>\n",
       "</table>\n",
       "</div>"
      ],
      "text/plain": [
       "  report_date             load_time load_type  load_weight dropoff_site\n",
       "0  2021-07-08  2021-07-08T12:00:00Z     TIRES       2260.0          MRF\n",
       "1  2021-07-08  2021-07-08T11:00:00Z     TIRES       1260.0          MRF\n",
       "2  2021-07-08  2021-07-08T03:00:00Z     TIRES        800.0          MRF\n",
       "3  2021-05-01  2021-05-01T12:29:00Z     TIRES        760.0          MRF\n",
       "4  2021-07-03  2021-07-03T12:09:00Z     TIRES       1400.0          MRF\n",
       "5  2021-02-27  2021-02-27T12:43:00Z     TIRES        320.0          MRF"
      ]
     },
     "execution_count": 3,
     "metadata": {},
     "output_type": "execute_result"
    }
   ],
   "source": [
    "data.head(6)"
   ]
  },
  {
   "cell_type": "code",
   "execution_count": 4,
   "metadata": {},
   "outputs": [
    {
     "data": {
      "text/html": [
       "<div>\n",
       "<style scoped>\n",
       "    .dataframe tbody tr th:only-of-type {\n",
       "        vertical-align: middle;\n",
       "    }\n",
       "\n",
       "    .dataframe tbody tr th {\n",
       "        vertical-align: top;\n",
       "    }\n",
       "\n",
       "    .dataframe thead th {\n",
       "        text-align: right;\n",
       "    }\n",
       "</style>\n",
       "<table border=\"1\" class=\"dataframe\">\n",
       "  <thead>\n",
       "    <tr style=\"text-align: right;\">\n",
       "      <th></th>\n",
       "      <th>report_date</th>\n",
       "      <th>load_time</th>\n",
       "      <th>load_type</th>\n",
       "      <th>load_weight</th>\n",
       "      <th>dropoff_site</th>\n",
       "    </tr>\n",
       "  </thead>\n",
       "  <tbody>\n",
       "    <tr>\n",
       "      <th>26151</th>\n",
       "      <td>2021-03-01</td>\n",
       "      <td>2021-03-01T11:19:00Z</td>\n",
       "      <td>ORGANICS</td>\n",
       "      <td>18580.0</td>\n",
       "      <td>ORGANICS BY GOSH</td>\n",
       "    </tr>\n",
       "    <tr>\n",
       "      <th>26152</th>\n",
       "      <td>2021-03-01</td>\n",
       "      <td>2021-03-01T11:26:00Z</td>\n",
       "      <td>ORGANICS</td>\n",
       "      <td>12100.0</td>\n",
       "      <td>ORGANICS BY GOSH</td>\n",
       "    </tr>\n",
       "    <tr>\n",
       "      <th>26153</th>\n",
       "      <td>2021-03-01</td>\n",
       "      <td>2021-03-01T04:27:00Z</td>\n",
       "      <td>ORGANICS</td>\n",
       "      <td>10900.0</td>\n",
       "      <td>ORGANICS BY GOSH</td>\n",
       "    </tr>\n",
       "    <tr>\n",
       "      <th>26154</th>\n",
       "      <td>2021-03-01</td>\n",
       "      <td>2021-03-01T05:55:00Z</td>\n",
       "      <td>ORGANICS</td>\n",
       "      <td>21800.0</td>\n",
       "      <td>ORGANICS BY GOSH</td>\n",
       "    </tr>\n",
       "    <tr>\n",
       "      <th>26155</th>\n",
       "      <td>2021-03-01</td>\n",
       "      <td>2021-03-02T01:10:00Z</td>\n",
       "      <td>ORGANICS</td>\n",
       "      <td>5640.0</td>\n",
       "      <td>ORGANICS BY GOSH</td>\n",
       "    </tr>\n",
       "    <tr>\n",
       "      <th>26156</th>\n",
       "      <td>2021-03-01</td>\n",
       "      <td>2021-03-01T10:22:00Z</td>\n",
       "      <td>RECYCLED METAL</td>\n",
       "      <td>360.0</td>\n",
       "      <td>AUSTIN IRON AND METAL</td>\n",
       "    </tr>\n",
       "  </tbody>\n",
       "</table>\n",
       "</div>"
      ],
      "text/plain": [
       "      report_date             load_time       load_type  load_weight  \\\n",
       "26151  2021-03-01  2021-03-01T11:19:00Z        ORGANICS      18580.0   \n",
       "26152  2021-03-01  2021-03-01T11:26:00Z        ORGANICS      12100.0   \n",
       "26153  2021-03-01  2021-03-01T04:27:00Z        ORGANICS      10900.0   \n",
       "26154  2021-03-01  2021-03-01T05:55:00Z        ORGANICS      21800.0   \n",
       "26155  2021-03-01  2021-03-02T01:10:00Z        ORGANICS       5640.0   \n",
       "26156  2021-03-01  2021-03-01T10:22:00Z  RECYCLED METAL        360.0   \n",
       "\n",
       "                dropoff_site  \n",
       "26151       ORGANICS BY GOSH  \n",
       "26152       ORGANICS BY GOSH  \n",
       "26153       ORGANICS BY GOSH  \n",
       "26154       ORGANICS BY GOSH  \n",
       "26155       ORGANICS BY GOSH  \n",
       "26156  AUSTIN IRON AND METAL  "
      ]
     },
     "execution_count": 4,
     "metadata": {},
     "output_type": "execute_result"
    }
   ],
   "source": [
    "data.tail(6)"
   ]
  },
  {
   "cell_type": "markdown",
   "metadata": {},
   "source": [
    "# Problem 1 (Stats)"
   ]
  },
  {
   "cell_type": "markdown",
   "metadata": {},
   "source": [
    "1. Menangani Missing Values"
   ]
  },
  {
   "cell_type": "code",
   "execution_count": 5,
   "metadata": {},
   "outputs": [
    {
     "data": {
      "text/plain": [
       "report_date        0\n",
       "load_time          0\n",
       "load_type          0\n",
       "load_weight     1048\n",
       "dropoff_site       0\n",
       "dtype: int64"
      ]
     },
     "execution_count": 5,
     "metadata": {},
     "output_type": "execute_result"
    }
   ],
   "source": [
    "# Mengecek jumlah missing values pada setiap kolom\n",
    "data.isnull().sum()"
   ]
  },
  {
   "cell_type": "code",
   "execution_count": 6,
   "metadata": {},
   "outputs": [],
   "source": [
    "# Menghapus setiap data yang terdapat missing values\n",
    "data = data.dropna(axis = 0, how = 'any')"
   ]
  },
  {
   "cell_type": "code",
   "execution_count": 7,
   "metadata": {},
   "outputs": [
    {
     "data": {
      "text/plain": [
       "report_date     0\n",
       "load_time       0\n",
       "load_type       0\n",
       "load_weight     0\n",
       "dropoff_site    0\n",
       "dtype: int64"
      ]
     },
     "execution_count": 7,
     "metadata": {},
     "output_type": "execute_result"
    }
   ],
   "source": [
    "# Mengecek kembali jumlah missing values di setiap kolom\n",
    "data.isnull().sum()"
   ]
  },
  {
   "cell_type": "markdown",
   "metadata": {},
   "source": [
    "2. Eksplorasi Data"
   ]
  },
  {
   "cell_type": "code",
   "execution_count": 8,
   "metadata": {},
   "outputs": [
    {
     "data": {
      "text/html": [
       "<div>\n",
       "<style scoped>\n",
       "    .dataframe tbody tr th:only-of-type {\n",
       "        vertical-align: middle;\n",
       "    }\n",
       "\n",
       "    .dataframe tbody tr th {\n",
       "        vertical-align: top;\n",
       "    }\n",
       "\n",
       "    .dataframe thead th {\n",
       "        text-align: right;\n",
       "    }\n",
       "</style>\n",
       "<table border=\"1\" class=\"dataframe\">\n",
       "  <thead>\n",
       "    <tr style=\"text-align: right;\">\n",
       "      <th></th>\n",
       "      <th>report_date</th>\n",
       "      <th>load_time</th>\n",
       "      <th>load_type</th>\n",
       "      <th>load_weight</th>\n",
       "      <th>dropoff_site</th>\n",
       "    </tr>\n",
       "  </thead>\n",
       "  <tbody>\n",
       "    <tr>\n",
       "      <th>19227</th>\n",
       "      <td>2021-01-02</td>\n",
       "      <td>2021-01-02T09:51:00Z</td>\n",
       "      <td>ORGANICS</td>\n",
       "      <td>16760.0</td>\n",
       "      <td>ORGANICS BY GOSH</td>\n",
       "    </tr>\n",
       "    <tr>\n",
       "      <th>19158</th>\n",
       "      <td>2021-01-02</td>\n",
       "      <td>2021-01-02T01:05:00Z</td>\n",
       "      <td>GARBAGE COLLECTIONS</td>\n",
       "      <td>9860.0</td>\n",
       "      <td>TDS LANDFILL</td>\n",
       "    </tr>\n",
       "    <tr>\n",
       "      <th>19159</th>\n",
       "      <td>2021-01-02</td>\n",
       "      <td>2021-01-02T02:00:00Z</td>\n",
       "      <td>GARBAGE COLLECTIONS</td>\n",
       "      <td>10580.0</td>\n",
       "      <td>TDS LANDFILL</td>\n",
       "    </tr>\n",
       "    <tr>\n",
       "      <th>19160</th>\n",
       "      <td>2021-01-02</td>\n",
       "      <td>2021-01-02T12:55:00Z</td>\n",
       "      <td>GARBAGE COLLECTIONS</td>\n",
       "      <td>21300.0</td>\n",
       "      <td>TDS LANDFILL</td>\n",
       "    </tr>\n",
       "    <tr>\n",
       "      <th>19161</th>\n",
       "      <td>2021-01-02</td>\n",
       "      <td>2021-01-02T12:56:00Z</td>\n",
       "      <td>GARBAGE COLLECTIONS</td>\n",
       "      <td>17160.0</td>\n",
       "      <td>TDS LANDFILL</td>\n",
       "    </tr>\n",
       "    <tr>\n",
       "      <th>...</th>\n",
       "      <td>...</td>\n",
       "      <td>...</td>\n",
       "      <td>...</td>\n",
       "      <td>...</td>\n",
       "      <td>...</td>\n",
       "    </tr>\n",
       "    <tr>\n",
       "      <th>211</th>\n",
       "      <td>2021-07-09</td>\n",
       "      <td>2021-07-09T06:00:00Z</td>\n",
       "      <td>BRUSH</td>\n",
       "      <td>5500.0</td>\n",
       "      <td>HORNSBY BEND</td>\n",
       "    </tr>\n",
       "    <tr>\n",
       "      <th>207</th>\n",
       "      <td>2021-07-09</td>\n",
       "      <td>2021-07-09T02:57:00Z</td>\n",
       "      <td>BRUSH</td>\n",
       "      <td>5500.0</td>\n",
       "      <td>HORNSBY BEND</td>\n",
       "    </tr>\n",
       "    <tr>\n",
       "      <th>208</th>\n",
       "      <td>2021-07-09</td>\n",
       "      <td>2021-07-09T03:45:00Z</td>\n",
       "      <td>BRUSH</td>\n",
       "      <td>5500.0</td>\n",
       "      <td>HORNSBY BEND</td>\n",
       "    </tr>\n",
       "    <tr>\n",
       "      <th>217</th>\n",
       "      <td>2021-07-09</td>\n",
       "      <td>2021-07-09T06:20:00Z</td>\n",
       "      <td>BRUSH</td>\n",
       "      <td>5500.0</td>\n",
       "      <td>HORNSBY BEND</td>\n",
       "    </tr>\n",
       "    <tr>\n",
       "      <th>206</th>\n",
       "      <td>2021-07-09</td>\n",
       "      <td>2021-07-09T05:40:00Z</td>\n",
       "      <td>BRUSH</td>\n",
       "      <td>5500.0</td>\n",
       "      <td>HORNSBY BEND</td>\n",
       "    </tr>\n",
       "  </tbody>\n",
       "</table>\n",
       "<p>25109 rows × 5 columns</p>\n",
       "</div>"
      ],
      "text/plain": [
       "      report_date             load_time            load_type  load_weight  \\\n",
       "19227  2021-01-02  2021-01-02T09:51:00Z             ORGANICS      16760.0   \n",
       "19158  2021-01-02  2021-01-02T01:05:00Z  GARBAGE COLLECTIONS       9860.0   \n",
       "19159  2021-01-02  2021-01-02T02:00:00Z  GARBAGE COLLECTIONS      10580.0   \n",
       "19160  2021-01-02  2021-01-02T12:55:00Z  GARBAGE COLLECTIONS      21300.0   \n",
       "19161  2021-01-02  2021-01-02T12:56:00Z  GARBAGE COLLECTIONS      17160.0   \n",
       "...           ...                   ...                  ...          ...   \n",
       "211    2021-07-09  2021-07-09T06:00:00Z                BRUSH       5500.0   \n",
       "207    2021-07-09  2021-07-09T02:57:00Z                BRUSH       5500.0   \n",
       "208    2021-07-09  2021-07-09T03:45:00Z                BRUSH       5500.0   \n",
       "217    2021-07-09  2021-07-09T06:20:00Z                BRUSH       5500.0   \n",
       "206    2021-07-09  2021-07-09T05:40:00Z                BRUSH       5500.0   \n",
       "\n",
       "           dropoff_site  \n",
       "19227  ORGANICS BY GOSH  \n",
       "19158      TDS LANDFILL  \n",
       "19159      TDS LANDFILL  \n",
       "19160      TDS LANDFILL  \n",
       "19161      TDS LANDFILL  \n",
       "...                 ...  \n",
       "211        HORNSBY BEND  \n",
       "207        HORNSBY BEND  \n",
       "208        HORNSBY BEND  \n",
       "217        HORNSBY BEND  \n",
       "206        HORNSBY BEND  \n",
       "\n",
       "[25109 rows x 5 columns]"
      ]
     },
     "execution_count": 8,
     "metadata": {},
     "output_type": "execute_result"
    }
   ],
   "source": [
    "# Melihat rentang waktu pengambilan data\n",
    "data.sort_values('report_date', ascending = True)"
   ]
  },
  {
   "cell_type": "markdown",
   "metadata": {},
   "source": [
    "Pengambilan data pada tahun 2021 dimulai dari tanggal 2 Januari 2021 (2021-01-02) hingga tanggal 9 Juli 2021 (2021-07-09)"
   ]
  },
  {
   "cell_type": "code",
   "execution_count": 182,
   "metadata": {},
   "outputs": [
    {
     "data": {
      "text/html": [
       "<div>\n",
       "<style scoped>\n",
       "    .dataframe tbody tr th:only-of-type {\n",
       "        vertical-align: middle;\n",
       "    }\n",
       "\n",
       "    .dataframe tbody tr th {\n",
       "        vertical-align: top;\n",
       "    }\n",
       "\n",
       "    .dataframe thead th {\n",
       "        text-align: right;\n",
       "    }\n",
       "</style>\n",
       "<table border=\"1\" class=\"dataframe\">\n",
       "  <thead>\n",
       "    <tr style=\"text-align: right;\">\n",
       "      <th></th>\n",
       "      <th>Tipe Sampah</th>\n",
       "    </tr>\n",
       "  </thead>\n",
       "  <tbody>\n",
       "    <tr>\n",
       "      <th>0</th>\n",
       "      <td>TIRES</td>\n",
       "    </tr>\n",
       "    <tr>\n",
       "      <th>1</th>\n",
       "      <td>RECYCLING - SINGLE STREAM</td>\n",
       "    </tr>\n",
       "    <tr>\n",
       "      <th>2</th>\n",
       "      <td>BRUSH</td>\n",
       "    </tr>\n",
       "    <tr>\n",
       "      <th>3</th>\n",
       "      <td>GARBAGE COLLECTIONS</td>\n",
       "    </tr>\n",
       "    <tr>\n",
       "      <th>4</th>\n",
       "      <td>YARD TRIMMING</td>\n",
       "    </tr>\n",
       "    <tr>\n",
       "      <th>5</th>\n",
       "      <td>BULK</td>\n",
       "    </tr>\n",
       "    <tr>\n",
       "      <th>6</th>\n",
       "      <td>DEAD ANIMAL</td>\n",
       "    </tr>\n",
       "    <tr>\n",
       "      <th>7</th>\n",
       "      <td>ORGANICS</td>\n",
       "    </tr>\n",
       "    <tr>\n",
       "      <th>8</th>\n",
       "      <td>MIXED LITTER</td>\n",
       "    </tr>\n",
       "    <tr>\n",
       "      <th>9</th>\n",
       "      <td>SWEEPING</td>\n",
       "    </tr>\n",
       "    <tr>\n",
       "      <th>10</th>\n",
       "      <td>LITTER</td>\n",
       "    </tr>\n",
       "    <tr>\n",
       "      <th>11</th>\n",
       "      <td>RECYCLED METAL</td>\n",
       "    </tr>\n",
       "    <tr>\n",
       "      <th>12</th>\n",
       "      <td>CONTAMINATED RECYCLING</td>\n",
       "    </tr>\n",
       "    <tr>\n",
       "      <th>13</th>\n",
       "      <td>CONTAMINATED ORGANICS</td>\n",
       "    </tr>\n",
       "  </tbody>\n",
       "</table>\n",
       "</div>"
      ],
      "text/plain": [
       "                  Tipe Sampah\n",
       "0                       TIRES\n",
       "1   RECYCLING - SINGLE STREAM\n",
       "2                       BRUSH\n",
       "3         GARBAGE COLLECTIONS\n",
       "4               YARD TRIMMING\n",
       "5                        BULK\n",
       "6                 DEAD ANIMAL\n",
       "7                    ORGANICS\n",
       "8                MIXED LITTER\n",
       "9                    SWEEPING\n",
       "10                     LITTER\n",
       "11             RECYCLED METAL\n",
       "12     CONTAMINATED RECYCLING\n",
       "13      CONTAMINATED ORGANICS"
      ]
     },
     "execution_count": 182,
     "metadata": {},
     "output_type": "execute_result"
    }
   ],
   "source": [
    "# Tipe load sampah di kota Austin\n",
    "d = data['load_type'].unique()\n",
    "\n",
    "t_sampah = pd.DataFrame(d)\n",
    "\n",
    "t_sampah.rename(index=str, columns={0: 'Tipe Sampah'})"
   ]
  },
  {
   "cell_type": "code",
   "execution_count": 183,
   "metadata": {},
   "outputs": [
    {
     "data": {
      "text/html": [
       "<div>\n",
       "<style scoped>\n",
       "    .dataframe tbody tr th:only-of-type {\n",
       "        vertical-align: middle;\n",
       "    }\n",
       "\n",
       "    .dataframe tbody tr th {\n",
       "        vertical-align: top;\n",
       "    }\n",
       "\n",
       "    .dataframe thead th {\n",
       "        text-align: right;\n",
       "    }\n",
       "</style>\n",
       "<table border=\"1\" class=\"dataframe\">\n",
       "  <thead>\n",
       "    <tr style=\"text-align: right;\">\n",
       "      <th></th>\n",
       "      <th>Tempat Pembuangan Sampah</th>\n",
       "    </tr>\n",
       "  </thead>\n",
       "  <tbody>\n",
       "    <tr>\n",
       "      <th>0</th>\n",
       "      <td>MRF</td>\n",
       "    </tr>\n",
       "    <tr>\n",
       "      <th>1</th>\n",
       "      <td>TDS - MRF</td>\n",
       "    </tr>\n",
       "    <tr>\n",
       "      <th>2</th>\n",
       "      <td>HORNSBY BEND</td>\n",
       "    </tr>\n",
       "    <tr>\n",
       "      <th>3</th>\n",
       "      <td>TDS LANDFILL</td>\n",
       "    </tr>\n",
       "    <tr>\n",
       "      <th>4</th>\n",
       "      <td>ORGANICS BY GOSH</td>\n",
       "    </tr>\n",
       "    <tr>\n",
       "      <th>5</th>\n",
       "      <td>BALCONES RECYCLING</td>\n",
       "    </tr>\n",
       "    <tr>\n",
       "      <th>6</th>\n",
       "      <td>ON ROUTE HIGH DUMP</td>\n",
       "    </tr>\n",
       "    <tr>\n",
       "      <th>7</th>\n",
       "      <td>AUSTIN IRON AND METAL</td>\n",
       "    </tr>\n",
       "    <tr>\n",
       "      <th>8</th>\n",
       "      <td>PARK BEND</td>\n",
       "    </tr>\n",
       "    <tr>\n",
       "      <th>9</th>\n",
       "      <td>BALCONES WOODS</td>\n",
       "    </tr>\n",
       "    <tr>\n",
       "      <th>10</th>\n",
       "      <td>STEINER LANDFILL</td>\n",
       "    </tr>\n",
       "    <tr>\n",
       "      <th>11</th>\n",
       "      <td>GREAT NORTHERN</td>\n",
       "    </tr>\n",
       "    <tr>\n",
       "      <th>12</th>\n",
       "      <td>WESTFIELD</td>\n",
       "    </tr>\n",
       "    <tr>\n",
       "      <th>13</th>\n",
       "      <td>AUSTIN WOOD RECYCLING</td>\n",
       "    </tr>\n",
       "  </tbody>\n",
       "</table>\n",
       "</div>"
      ],
      "text/plain": [
       "   Tempat Pembuangan Sampah\n",
       "0                       MRF\n",
       "1                 TDS - MRF\n",
       "2              HORNSBY BEND\n",
       "3              TDS LANDFILL\n",
       "4          ORGANICS BY GOSH\n",
       "5        BALCONES RECYCLING\n",
       "6        ON ROUTE HIGH DUMP\n",
       "7     AUSTIN IRON AND METAL\n",
       "8                 PARK BEND\n",
       "9            BALCONES WOODS\n",
       "10         STEINER LANDFILL\n",
       "11           GREAT NORTHERN\n",
       "12                WESTFIELD\n",
       "13    AUSTIN WOOD RECYCLING"
      ]
     },
     "execution_count": 183,
     "metadata": {},
     "output_type": "execute_result"
    }
   ],
   "source": [
    "# Lokasi tempat pembuangan sampah\n",
    "e = data['dropoff_site'].unique()\n",
    "\n",
    "lok = pd.DataFrame(e)\n",
    "\n",
    "lok.rename(index=str, columns={0: 'Tempat Pembuangan Sampah'})"
   ]
  },
  {
   "cell_type": "markdown",
   "metadata": {},
   "source": [
    "3. Central Tendency"
   ]
  },
  {
   "cell_type": "code",
   "execution_count": 11,
   "metadata": {},
   "outputs": [
    {
     "data": {
      "text/plain": [
       "dropoff_site\n",
       "GREAT NORTHERN           19153.333333\n",
       "WESTFIELD                16020.000000\n",
       "TDS LANDFILL             15169.407215\n",
       "PARK BEND                13385.000000\n",
       "ON ROUTE HIGH DUMP       12525.714286\n",
       "ORGANICS BY GOSH         11818.482146\n",
       "TDS - MRF                 9872.550882\n",
       "BALCONES RECYCLING        9464.652072\n",
       "BALCONES WOODS            8460.000000\n",
       "HORNSBY BEND              6628.644068\n",
       "AUSTIN WOOD RECYCLING     4050.000000\n",
       "MRF                       1799.982143\n",
       "STEINER LANDFILL           780.000000\n",
       "AUSTIN IRON AND METAL      451.200000\n",
       "Name: load_weight, dtype: float64"
      ]
     },
     "execution_count": 11,
     "metadata": {},
     "output_type": "execute_result"
    }
   ],
   "source": [
    "# Menghitung nilai mean pada setiap site\n",
    "data.groupby('dropoff_site')['load_weight'].mean().sort_values(ascending=False)"
   ]
  },
  {
   "cell_type": "code",
   "execution_count": 12,
   "metadata": {},
   "outputs": [
    {
     "data": {
      "text/plain": [
       "dropoff_site\n",
       "GREAT NORTHERN           21110.0\n",
       "WESTFIELD                16020.0\n",
       "ON ROUTE HIGH DUMP       14940.0\n",
       "TDS LANDFILL             14920.0\n",
       "PARK BEND                12330.0\n",
       "ORGANICS BY GOSH         11920.0\n",
       "TDS - MRF                10330.0\n",
       "BALCONES RECYCLING        9840.0\n",
       "BALCONES WOODS            8460.0\n",
       "HORNSBY BEND              6390.0\n",
       "AUSTIN WOOD RECYCLING     4050.0\n",
       "MRF                       1360.0\n",
       "STEINER LANDFILL           780.0\n",
       "AUSTIN IRON AND METAL      400.0\n",
       "Name: load_weight, dtype: float64"
      ]
     },
     "execution_count": 12,
     "metadata": {},
     "output_type": "execute_result"
    }
   ],
   "source": [
    "# Menghitung nilai median pada setiap site\n",
    "data.groupby('dropoff_site')['load_weight'].median().sort_values(ascending=False)"
   ]
  },
  {
   "cell_type": "code",
   "execution_count": 13,
   "metadata": {},
   "outputs": [
    {
     "data": {
      "text/plain": [
       "dropoff_site            \n",
       "AUSTIN IRON AND METAL  0      260.0\n",
       "                       1      320.0\n",
       "                       2      520.0\n",
       "AUSTIN WOOD RECYCLING  0     2340.0\n",
       "                       1     5760.0\n",
       "BALCONES RECYCLING     0    11880.0\n",
       "BALCONES WOODS         0     8460.0\n",
       "GREAT NORTHERN         0     8700.0\n",
       "                       1    17160.0\n",
       "                       2    20900.0\n",
       "                       3    21320.0\n",
       "                       4    21960.0\n",
       "                       5    24880.0\n",
       "HORNSBY BEND           0     5500.0\n",
       "MRF                    0      960.0\n",
       "ON ROUTE HIGH DUMP     0     4060.0\n",
       "                       1     7480.0\n",
       "                       2    12500.0\n",
       "                       3    14940.0\n",
       "                       4    15040.0\n",
       "                       5    15200.0\n",
       "                       6    18460.0\n",
       "ORGANICS BY GOSH       0    14580.0\n",
       "PARK BEND              0     8480.0\n",
       "                       1     8960.0\n",
       "                       2    15700.0\n",
       "                       3    20400.0\n",
       "STEINER LANDFILL       0      780.0\n",
       "TDS - MRF              0    10360.0\n",
       "TDS LANDFILL           0       20.0\n",
       "                       1       60.0\n",
       "                       2    12020.0\n",
       "WESTFIELD              0    16020.0\n",
       "Name: load_weight, dtype: float64"
      ]
     },
     "execution_count": 13,
     "metadata": {},
     "output_type": "execute_result"
    }
   ],
   "source": [
    "# Menghitung nilai modus pada setiap site\n",
    "data.groupby(['dropoff_site'])['load_weight'].apply(pd.Series.mode)"
   ]
  },
  {
   "cell_type": "markdown",
   "metadata": {},
   "source": [
    "Berdasarkan perhitungan nilai modus, dapat diketahui bahwa beberapa dropoff site memiliki satu nilai modus dan beberapa dropoff site lainnya yang memiliki nilai modus lebih dari satu (multimodal).\n",
    "\n",
    "- Dropoff site yang memiliki satu nilai modus adalah:\n",
    "    - BALCONES RECYCLING\n",
    "    - BALCONES WOODS\n",
    "    - HORNSBY BEND\n",
    "    - MRF\n",
    "    - ORGANICS BY GOSH\n",
    "    - STEINER LANDFILL\n",
    "    - TDS - MRF\n",
    "    - WESTFIELD\n",
    "        \n",
    "- Dropoff site yang multimodal adalah:\n",
    "    - AUSTIN IRON AND METAL\n",
    "    - AUSTIN WOOD RECYCLING\n",
    "    - GREAT NORTHERN\n",
    "    - ON ROUTE HIGH DUMP\n",
    "    - PARK BEND\n",
    "    - TDS LANDFILL"
   ]
  },
  {
   "cell_type": "markdown",
   "metadata": {},
   "source": [
    "4. Site yang dipilih\n",
    "\n",
    "    Site yang saya pilih adalah MRF. Karena diantara site yang hanya memiliki satu nilai modus, site MRF lah yang memiliki nilai modus paling kecil, yaitu 960 dengan nilai mean = 1799.982143 dan nilai median = 1360.0"
   ]
  },
  {
   "cell_type": "markdown",
   "metadata": {},
   "source": [
    "5. Cek outlier pada data 'load_weight' di dropoff_site MRF"
   ]
  },
  {
   "cell_type": "code",
   "execution_count": 14,
   "metadata": {},
   "outputs": [
    {
     "data": {
      "image/png": "[encoded data removed]",
      "text/plain": [
       "<Figure size 432x288 with 1 Axes>"
      ]
     },
     "metadata": {
      "needs_background": "light"
     },
     "output_type": "display_data"
    }
   ],
   "source": [
    "# Visualisasi distribusi data load_weight pada site MRF\n",
    "load_site = data.loc[data['dropoff_site'] == 'MRF']['load_weight']\n",
    "density = stats.gaussian_kde(load_site)\n",
    "n, x, _ = plt.hist(load_site, histtype='step', bins=25)  \n",
    "plt.plot(x, density(x)*10**5)\n",
    "plt.axvline(load_site.mean(), color='magenta', linestyle='dashed', linewidth=2)\n",
    "plt.axvline(load_site.median(), color='green', linestyle='dashed', linewidth=2)\n",
    "plt.show()"
   ]
  },
  {
   "cell_type": "markdown",
   "metadata": {},
   "source": [
    "Data load_weight pada site MRF memiliki:\n",
    "- Nilai Mean: 1799.982143\n",
    "- Nilai Median: 1360.0\n",
    "- Nilai Modus: 960\n",
    "\n",
    "Karena nilai Mean > Median > Modus, maka distribusi data load_weight pada site MRF memiliki kecondongan ke kanan atau distribusi Right-Skewness."
   ]
  },
  {
   "cell_type": "code",
   "execution_count": 22,
   "metadata": {},
   "outputs": [
    {
     "data": {
      "image/png": "[encoded data removed]",
      "text/plain": [
       "<Figure size 576x432 with 1 Axes>"
      ]
     },
     "metadata": {
      "needs_background": "light"
     },
     "output_type": "display_data"
    }
   ],
   "source": [
    "# Visualisasi data outlier di MRF dengan box plot\n",
    "load_site.plot(kind='box', title='Load Weight Distribution in MRF', figsize=(8,6))\n",
    "plt.show()"
   ]
  },
  {
   "cell_type": "code",
   "execution_count": 63,
   "metadata": {},
   "outputs": [
    {
     "data": {
      "text/html": [
       "<div>\n",
       "<style scoped>\n",
       "    .dataframe tbody tr th:only-of-type {\n",
       "        vertical-align: middle;\n",
       "    }\n",
       "\n",
       "    .dataframe tbody tr th {\n",
       "        vertical-align: top;\n",
       "    }\n",
       "\n",
       "    .dataframe thead th {\n",
       "        text-align: right;\n",
       "    }\n",
       "</style>\n",
       "<table border=\"1\" class=\"dataframe\">\n",
       "  <thead>\n",
       "    <tr style=\"text-align: right;\">\n",
       "      <th></th>\n",
       "      <th>load_weight</th>\n",
       "    </tr>\n",
       "  </thead>\n",
       "  <tbody>\n",
       "    <tr>\n",
       "      <th>0</th>\n",
       "      <td>2260.0</td>\n",
       "    </tr>\n",
       "    <tr>\n",
       "      <th>1</th>\n",
       "      <td>1260.0</td>\n",
       "    </tr>\n",
       "    <tr>\n",
       "      <th>2</th>\n",
       "      <td>800.0</td>\n",
       "    </tr>\n",
       "    <tr>\n",
       "      <th>3</th>\n",
       "      <td>760.0</td>\n",
       "    </tr>\n",
       "    <tr>\n",
       "      <th>4</th>\n",
       "      <td>1400.0</td>\n",
       "    </tr>\n",
       "    <tr>\n",
       "      <th>...</th>\n",
       "      <td>...</td>\n",
       "    </tr>\n",
       "    <tr>\n",
       "      <th>25414</th>\n",
       "      <td>700.0</td>\n",
       "    </tr>\n",
       "    <tr>\n",
       "      <th>25415</th>\n",
       "      <td>580.0</td>\n",
       "    </tr>\n",
       "    <tr>\n",
       "      <th>25416</th>\n",
       "      <td>2060.0</td>\n",
       "    </tr>\n",
       "    <tr>\n",
       "      <th>25691</th>\n",
       "      <td>1180.0</td>\n",
       "    </tr>\n",
       "    <tr>\n",
       "      <th>25916</th>\n",
       "      <td>920.0</td>\n",
       "    </tr>\n",
       "  </tbody>\n",
       "</table>\n",
       "<p>168 rows × 1 columns</p>\n",
       "</div>"
      ],
      "text/plain": [
       "       load_weight\n",
       "0           2260.0\n",
       "1           1260.0\n",
       "2            800.0\n",
       "3            760.0\n",
       "4           1400.0\n",
       "...            ...\n",
       "25414        700.0\n",
       "25415        580.0\n",
       "25416       2060.0\n",
       "25691       1180.0\n",
       "25916        920.0\n",
       "\n",
       "[168 rows x 1 columns]"
      ]
     },
     "execution_count": 63,
     "metadata": {},
     "output_type": "execute_result"
    }
   ],
   "source": [
    "# Mengubah data load_site menjadi dataframe baru\n",
    "load_site = data.loc[data['dropoff_site'] == 'MRF']['load_weight']\n",
    "data_ls = pd.DataFrame(load_site, columns=['load_weight'])\n",
    "data_ls"
   ]
  },
  {
   "cell_type": "code",
   "execution_count": 140,
   "metadata": {},
   "outputs": [
    {
     "name": "stdout",
     "output_type": "stream",
     "text": [
      "Nilai IQR:\n",
      "1300.0\n",
      "Nilai maksimum:\n",
      "3970.0\n",
      "Nilai minimum:\n",
      "-1230.0\n"
     ]
    },
    {
     "data": {
      "image/png": "[encoded data removed]",
      "text/plain": [
       "<Figure size 576x432 with 1 Axes>"
      ]
     },
     "metadata": {
      "needs_background": "light"
     },
     "output_type": "display_data"
    }
   ],
   "source": [
    "# Menangani data outlier dengan IQR\n",
    "Q1 = data_ls['load_weight'].quantile(0.25)\n",
    "Q3 = data_ls['load_weight'].quantile(0.75)\n",
    "IQR = Q3 - Q1\n",
    "print('Nilai IQR:')\n",
    "print(IQR)\n",
    "\n",
    "# Mencari nilai maksimum\n",
    "nilai_max = Q3 + (1.5 * IQR)\n",
    "print('Nilai maksimum:')\n",
    "print(nilai_max)\n",
    "\n",
    "# Mencari nilai minimum\n",
    "nilai_min = Q1 - (1.5 * IQR)\n",
    "print('Nilai minimum:')\n",
    "print(nilai_min)\n",
    "\n",
    "# Merubah data outlier menjadi null dan menghapusnya\n",
    "data_ls = data_ls[~((data_ls < nilai_min) | (data_ls > nilai_max)).any(axis=1)]\n",
    "\n",
    "# Visualisasi tanpa data outlier di MRF dengan box plot\n",
    "data_ls.plot(kind='box', title='Load Weight Distribution in MRF', figsize=(8,6))\n",
    "plt.show()"
   ]
  },
  {
   "cell_type": "code",
   "execution_count": 141,
   "metadata": {},
   "outputs": [
    {
     "name": "stdout",
     "output_type": "stream",
     "text": [
      "Nilai mean, median dan modus sebelum data outlier ditangani:\n",
      "Nilai Mean: \n",
      "1799.982142857143\n",
      "Nilai Median: \n",
      "1360.0\n",
      "Nilai Modus: \n",
      "0    960.0\n",
      "Name: load_weight, dtype: float64\n",
      "\n",
      "Nilai mean, median dan modus setelah data outlier ditangani:\n",
      "Nilai Mean: \n",
      "1402.16875\n",
      "Nilai Median: \n",
      "1290.0\n",
      "Nilai Modus: \n",
      "0    960.0\n",
      "Name: load_weight, dtype: float64\n"
     ]
    }
   ],
   "source": [
    "# Central Tendency sebelum data outlier ditangani\n",
    "print('Nilai mean, median dan modus sebelum data outlier ditangani:')\n",
    "print('Nilai Mean: ')\n",
    "print(load_site.mean())\n",
    "print('Nilai Median: ')\n",
    "print(load_site.median())\n",
    "print('Nilai Modus: ')\n",
    "print(load_site.mode())\n",
    "\n",
    "# Central Tendency setelah data outlier ditangani\n",
    "print('\\nNilai mean, median dan modus setelah data outlier ditangani:')\n",
    "print('Nilai Mean: ')\n",
    "print(data_ls['load_weight'].mean())\n",
    "print('Nilai Median: ')\n",
    "print(data_ls['load_weight'].median())\n",
    "print('Nilai Modus: ')\n",
    "print(data_ls['load_weight'].mode())"
   ]
  },
  {
   "cell_type": "markdown",
   "metadata": {},
   "source": [
    "6. Range, Variance, dan Standar Deviasi untuk data 'load_weight' di site MRF"
   ]
  },
  {
   "cell_type": "code",
   "execution_count": 152,
   "metadata": {},
   "outputs": [
    {
     "name": "stdout",
     "output_type": "stream",
     "text": [
      "Nilai Range:\n",
      "3480.0\n",
      "Nilai Variance:\n",
      "718857.31\n",
      "Nilai Standar Deviasi:\n",
      "847.85\n"
     ]
    }
   ],
   "source": [
    "# Menghitung Range\n",
    "print('Nilai Range:')\n",
    "print(round(data_ls['load_weight'].max() - data_ls['load_weight'].min(),2))\n",
    "\n",
    "# Menghitung Variance\n",
    "print('Nilai Variance:')\n",
    "print(round(data_ls['load_weight'].var(),2))\n",
    "\n",
    "# Menghitung Standar Deviasi\n",
    "print('Nilai Standar Deviasi:')\n",
    "print(round(data_ls['load_weight'].std(),2))"
   ]
  },
  {
   "cell_type": "markdown",
   "metadata": {},
   "source": [
    "7. Analisa dan saran tentang kapasitas penampungan di site baru berdasarkan Confidence Interval. Data apa yang kamu gunakan, apakah hanya dari satu site saja atau dari keseluruhan site?\n",
    "\n",
    "    Data yang digunakan hanyalah data dari satu site yang telah dipilih sebelumnya, yaitu site MRF, karena data tersebut sudah tidak mempunyai data outlier. Estimasi kapasitas penampungan untuk site baru berada di nilai confidence intervalnya."
   ]
  },
  {
   "cell_type": "code",
   "execution_count": 155,
   "metadata": {},
   "outputs": [
    {
     "name": "stdout",
     "output_type": "stream",
     "text": [
      "Nilai Confidence Interval: 3063.93\n"
     ]
    }
   ],
   "source": [
    "# Menghitung confidence interval\n",
    "ci = stats.norm.interval(0.95, data_ls['load_weight'].mean(), data_ls['load_weight'].std())\n",
    "'''\n",
    "    `data_ls['load_weight'].mean()` : rata-rata dari site MRF yang telah dihapus data outliernya\n",
    "    `data_ls['load_weight'].std()` : standar deviasi dari site MRF yang telah dihapus data outliernya\n",
    "'''\n",
    "# Membulatkan hasil perhitungan confidence interval\n",
    "print('Nilai Confidence Interval:', round(ci[1],2))   "
   ]
  },
  {
   "cell_type": "markdown",
   "metadata": {},
   "source": [
    "8. Analisa Uji Hipotesis dan perhitungan dengan t-test\n",
    "\n",
    "    Hipotesis:\n",
    "    \n",
    "    Apakah rata-rata harian load_weight pada dua dropoff site berbeda secara signifikan atau tidak?\n",
    "    \n",
    "    Sample yang dipilih adalah dropoff site TDS - MRF dan BALCONES RECYCLING.\n",
    "\n",
    "- H0 : Tidak ada perbedaan yang signifikan antara rata-rata harian TDS - MRF dan rata-rata harian Balcones Recycling\n",
    "- H1 : Terdapat perbedaan yang siginifikan antara rata-rata harian TDS - MRF dan rata-rata harian Balcones Recycling"
   ]
  },
  {
   "cell_type": "code",
   "execution_count": 157,
   "metadata": {},
   "outputs": [
    {
     "name": "stdout",
     "output_type": "stream",
     "text": [
      "Rata-rata load weight di TDS - MRF per hari: 272003.0\n",
      "Rata-rata load weight di BALCONES RECYCLING per hari: 386339.0\n",
      "\n",
      "P-value: 0.0008375051599761302\n",
      "t-statistics: -3.391814732505006\n"
     ]
    },
    {
     "data": {
      "text/plain": [
       "<matplotlib.legend.Legend at 0x1e9dfd0db50>"
      ]
     },
     "execution_count": 157,
     "metadata": {},
     "output_type": "execute_result"
    },
    {
     "data": {
      "image/png": "[encoded data removed]",
      "text/plain": [
       "<Figure size 1152x360 with 1 Axes>"
      ]
     },
     "metadata": {
      "needs_background": "light"
     },
     "output_type": "display_data"
    }
   ],
   "source": [
    "# Menghitung rata-rata TDS - MRF dan Balcones Recycling\n",
    "d_mrf = data[data['dropoff_site'] == 'TDS - MRF'][['report_date', 'load_weight']].groupby('report_date').sum()\n",
    "d_balcones = data[data['dropoff_site'] == 'BALCONES RECYCLING'][['report_date', 'load_weight']].groupby('report_date').sum()\n",
    "\n",
    "print('Rata-rata load weight di TDS - MRF per hari: {}'.format(np.round(d_mrf.load_weight.mean())))\n",
    "print('Rata-rata load weight di BALCONES RECYCLING per hari: {}'.format(np.round(d_balcones.load_weight.mean())))\n",
    "\n",
    "# Menghitung nilai p-value dengan t-test\n",
    "t_stat, p_val = stats.ttest_ind(d_mrf, d_balcones)\n",
    "print('\\nP-value:',p_val[0])\n",
    "print('t-statistics:',t_stat[0])\n",
    "\n",
    "# Menghitung mean sample\n",
    "s_mrf = np.random.normal(d_mrf.load_weight.mean(), d_mrf.load_weight.std(),10000)\n",
    "s_balcones = np.random.normal(d_balcones.load_weight.mean(),d_balcones.load_weight.std(),10000)\n",
    "\n",
    "# Menghitung nilai confidence interval\n",
    "ci = stats.norm.interval(0.95, d_mrf.load_weight.mean(), d_mrf.load_weight.std())\n",
    "\n",
    "# Visualisasi grafik\n",
    "plt.figure(figsize=(16,5))\n",
    "sns.histplot(s_mrf, label='TDS - MRF Average Load Weight a Day *Pop',color='blue', kde=True)\n",
    "sns.histplot(s_balcones, label='BALCONES RECYCLING Average Load Weight a Day *Pop',color='red', kde=True)\n",
    "\n",
    "plt.axvline(d_mrf.load_weight.mean(), color='blue', linewidth=2, label='TDS - MRF mean')\n",
    "plt.axvline(d_balcones.load_weight.mean(), color='red',  linewidth=2, label='Balcones Recycling mean')\n",
    "\n",
    "plt.axvline(ci[1], color='green', linestyle='dashed', linewidth=2, label='confidence threshold of 95%')\n",
    "plt.axvline(ci[0], color='green', linestyle='dashed', linewidth=2)\n",
    "\n",
    "plt.axvline(s_mrf.mean()+t_stat[0]*s_mrf.std(), color='black', linestyle='dashed', linewidth=2, label = 'Alternative Hypothesis')\n",
    "plt.axvline(s_mrf.mean()-t_stat[0]*s_mrf.std(), color='black', linestyle='dashed', linewidth=2)\n",
    "\n",
    "plt.legend()"
   ]
  },
  {
   "cell_type": "markdown",
   "metadata": {},
   "source": [
    "Dari perhitungan dan grafik diatas, dapat disimpulkan bahwa terdapat perbedaan yang signifikan antara rata-rata harian load weight di site TDS - MRF dengan rata-rata harian load weight di site BALCONES RECYCLING."
   ]
  },
  {
   "cell_type": "markdown",
   "metadata": {},
   "source": [
    "---\n",
    "1. Teknik apa yang kamu pilih untuk handling outlier? jelaskan alasannya!\n",
    "\n",
    "    Teknik yang dipilih untuk mengatasi outlier adalah dengan perhitungan Inter-Quantile Range (IQR). Karena data mememiliki distribusi Right-Skewness. Setelah perhitungan selesai, data outlier yang ada pada data akan dihapus\n",
    "\n",
    "2. Apa konsep dibalik confidence interval sehingga kita dapat menggunakannya untuk menyelesaikan langkah pada nomor 7?\n",
    "    \n",
    "    Confidence Interval digunakan untuk menentukan keakuratan nilai rata-rata suatu sample terhadap populasinya. Dengan menggunakan confidence interval, kita dapat melakukan estimasi berapa rata-rata terkecil dan berapa rata-rata terbesar yang ada pada suatu populasi. Sehingga, kita tidak perlu menghitung secara keseluruhan populasi, karena dapat diperkirakan dari nilai confidence interval.\n",
    "\n",
    "3. Jelaskan jenis uji hipotesis apa yang kamu terapkan dan mengapa?\n",
    "\n",
    "    Jenis uji hipotesis yang digunakan adalah Two Samples Independent Two Tailed Hypothesis Testing. Karena yang diuji adalah rata-rata dari 2 populasi yang independen.\n",
    "---"
   ]
  },
  {
   "cell_type": "markdown",
   "metadata": {},
   "source": [
    "# Problem 2 (Math/Calculus)"
   ]
  },
  {
   "cell_type": "code",
   "execution_count": 338,
   "metadata": {},
   "outputs": [
    {
     "data": {
      "text/html": [
       "<div>\n",
       "<style scoped>\n",
       "    .dataframe tbody tr th:only-of-type {\n",
       "        vertical-align: middle;\n",
       "    }\n",
       "\n",
       "    .dataframe tbody tr th {\n",
       "        vertical-align: top;\n",
       "    }\n",
       "\n",
       "    .dataframe thead th {\n",
       "        text-align: right;\n",
       "    }\n",
       "</style>\n",
       "<table border=\"1\" class=\"dataframe\">\n",
       "  <thead>\n",
       "    <tr style=\"text-align: right;\">\n",
       "      <th></th>\n",
       "      <th>report_date</th>\n",
       "      <th>load_weight</th>\n",
       "    </tr>\n",
       "  </thead>\n",
       "  <tbody>\n",
       "    <tr>\n",
       "      <th>0</th>\n",
       "      <td>2021-01-02</td>\n",
       "      <td>2170130.0</td>\n",
       "    </tr>\n",
       "    <tr>\n",
       "      <th>1</th>\n",
       "      <td>2021-01-04</td>\n",
       "      <td>2920260.0</td>\n",
       "    </tr>\n",
       "    <tr>\n",
       "      <th>2</th>\n",
       "      <td>2021-01-05</td>\n",
       "      <td>2388540.0</td>\n",
       "    </tr>\n",
       "    <tr>\n",
       "      <th>3</th>\n",
       "      <td>2021-01-06</td>\n",
       "      <td>2396550.0</td>\n",
       "    </tr>\n",
       "    <tr>\n",
       "      <th>4</th>\n",
       "      <td>2021-01-07</td>\n",
       "      <td>2438330.0</td>\n",
       "    </tr>\n",
       "    <tr>\n",
       "      <th>...</th>\n",
       "      <td>...</td>\n",
       "      <td>...</td>\n",
       "    </tr>\n",
       "    <tr>\n",
       "      <th>160</th>\n",
       "      <td>2021-07-05</td>\n",
       "      <td>1897290.0</td>\n",
       "    </tr>\n",
       "    <tr>\n",
       "      <th>161</th>\n",
       "      <td>2021-07-06</td>\n",
       "      <td>1921640.0</td>\n",
       "    </tr>\n",
       "    <tr>\n",
       "      <th>162</th>\n",
       "      <td>2021-07-07</td>\n",
       "      <td>1553080.0</td>\n",
       "    </tr>\n",
       "    <tr>\n",
       "      <th>163</th>\n",
       "      <td>2021-07-08</td>\n",
       "      <td>1417650.0</td>\n",
       "    </tr>\n",
       "    <tr>\n",
       "      <th>164</th>\n",
       "      <td>2021-07-09</td>\n",
       "      <td>120340.0</td>\n",
       "    </tr>\n",
       "  </tbody>\n",
       "</table>\n",
       "<p>165 rows × 2 columns</p>\n",
       "</div>"
      ],
      "text/plain": [
       "    report_date  load_weight\n",
       "0    2021-01-02    2170130.0\n",
       "1    2021-01-04    2920260.0\n",
       "2    2021-01-05    2388540.0\n",
       "3    2021-01-06    2396550.0\n",
       "4    2021-01-07    2438330.0\n",
       "..          ...          ...\n",
       "160  2021-07-05    1897290.0\n",
       "161  2021-07-06    1921640.0\n",
       "162  2021-07-07    1553080.0\n",
       "163  2021-07-08    1417650.0\n",
       "164  2021-07-09     120340.0\n",
       "\n",
       "[165 rows x 2 columns]"
      ]
     },
     "execution_count": 338,
     "metadata": {},
     "output_type": "execute_result"
    }
   ],
   "source": [
    "# Mengelompokkan load_weight berdasarkan report_date\n",
    "data_forecast = data.groupby('report_date')['load_weight'].sum()\n",
    "\n",
    "# Mengurutkan data sesuai dengan report_date dari tanggal terkecil hingga terbesar\n",
    "data_forecast = data_forecast.to_frame().reset_index()\n",
    "data_forecast.columns = ['report_date', 'load_weight']\n",
    "data_forecast.sort_values('report_date', ascending = True)"
   ]
  },
  {
   "cell_type": "code",
   "execution_count": 343,
   "metadata": {},
   "outputs": [
    {
     "data": {
      "text/plain": [
       "-1176970.0"
      ]
     },
     "execution_count": 343,
     "metadata": {},
     "output_type": "execute_result"
    }
   ],
   "source": [
    "# Menentukan Sumbu X dan Sumbu Y\n",
    "x = data_forecast.index.values\n",
    "y = data_forecast.load_weight.values\n",
    "\n",
    "# Melakukan turunan pertama\n",
    "v = np.gradient(y,x)\n",
    "\n",
    "# Menghitung weight untuk 10 Juli 2021\n",
    "w = data_forecast.load_weight[164] + v * 1\n",
    "w[164]\n"
   ]
  },
  {
   "cell_type": "markdown",
   "metadata": {},
   "source": [
    "---\n",
    "1. Untuk menghitung turunan pertama dapat digunakan metode simbolik dan numerik, untuk kasus ini, teknik apa yang kamu gunakan?\n",
    "\n",
    "    Teknik yang digunakan adalah teknik numerik. Karena data yang diinputkan berbentuk array dan output yang diharapkan adalah data numerik.\n",
    "\n",
    "2. Apakah kamu membutuhkan fungsi matematis untuk menghitung turunannya? (ya/tidak) berikan alasanmu!\n",
    "\n",
    "    Ya\n",
    "\n",
    "3. Berapa load weight yang kamu perkirakan di hari esok (10 Juli 2021)?\n",
    "\n",
    "    1776970\n",
    "---"
   ]
  }
 ],
 "metadata": {
  "kernelspec": {
   "display_name": "Python 3.9.12 ('base')",
   "language": "python",
   "name": "python3"
  },
  "language_info": {
   "codemirror_mode": {
    "name": "ipython",
    "version": 3
   },
   "file_extension": ".py",
   "mimetype": "text/x-python",
   "name": "python",
   "nbconvert_exporter": "python",
   "pygments_lexer": "ipython3",
   "version": "3.9.12"
  },
  "orig_nbformat": 4,
  "vscode": {
   "interpreter": {
    "hash": "3d79c0c0dfeab29ddf2a41b215099ae4a06f260ae5a28ebd6eebd2b67bfbabbe"
   }
  }
 },
 "nbformat": 4,
 "nbformat_minor": 2
}
